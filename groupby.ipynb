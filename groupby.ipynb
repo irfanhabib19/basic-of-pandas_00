{
 "cells": [
  {
   "cell_type": "code",
   "execution_count": 4,
   "metadata": {},
   "outputs": [
    {
     "name": "stdout",
     "output_type": "stream",
     "text": [
      "   Order ID Order Date  Order Quantity      Sales       Ship Mode    Profit  \\\n",
      "0         3 2010-10-13               6   261.5400     Regular Air  -213.250   \n",
      "1         6 2012-02-20               2     6.9300     Regular Air    -4.640   \n",
      "2        32 2011-07-15              26  2808.0800     Regular Air  1054.820   \n",
      "3        32 2011-07-15              24  1761.4000  Delivery Truck -1748.560   \n",
      "4        32 2011-07-15              23   160.2335     Regular Air   -85.129   \n",
      "5        32 2011-07-15              15   140.5600     Regular Air  -128.380   \n",
      "6        35 2011-10-22              30   288.5600     Regular Air    60.720   \n",
      "7        35 2011-10-22              14  1892.8480     Regular Air    48.987   \n",
      "8        36 2011-11-02              46  2484.7455     Regular Air   657.477   \n",
      "9        65 2011-03-17              32  3812.7300     Regular Air  1470.300   \n",
      "\n",
      "   Unit Price       Customer Name Customer Segment Product Category  \n",
      "0       38.94  Muhammed MacIntyre   Small Business  Office Supplies  \n",
      "1        2.08         Ruben Dartt        Corporate  Office Supplies  \n",
      "2      107.53       Liz Pelletier        Corporate        Furniture  \n",
      "3       70.89       Liz Pelletier        Corporate        Furniture  \n",
      "4        7.99       Liz Pelletier        Corporate       Technology  \n",
      "5        8.46       Liz Pelletier        Corporate       Technology  \n",
      "6        9.11     Julie Creighton        Corporate  Office Supplies  \n",
      "7      155.99     Julie Creighton        Corporate       Technology  \n",
      "8       65.99    Sample Company A      Home Office       Technology  \n",
      "9      115.79       Tamara Dahlen        Corporate       Technology  \n",
      "          Customer Name\n",
      "Order ID               \n",
      "3                     1\n",
      "6                     1\n",
      "32                    8\n",
      "35                    4\n",
      "36                    2\n",
      "...                 ...\n",
      "7171                  2\n",
      "7174                  1\n",
      "7175                  1\n",
      "7203                  1\n",
      "7239                  1\n",
      "\n",
      "[660 rows x 1 columns]\n"
     ]
    }
   ],
   "source": [
    "import pandas as pd \n",
    "data=pd.read_excel(\"random.xlsx\")\n",
    "print(data.head(10))\n",
    "gp1=data.groupby(\"Order ID\").agg({\"Customer Name\":\"count\"})\n",
    "print(gp1)\n",
    "\n"
   ]
  },
  {
   "cell_type": "code",
   "execution_count": 15,
   "metadata": {},
   "outputs": [
    {
     "name": "stdout",
     "output_type": "stream",
     "text": [
      "                                         Sales     Profit\n",
      "Customer Name      Customer Segment                      \n",
      "Aaron Bergman      Corporate           14.7600    1.32000\n",
      "Aaron Smayling     Small Business     129.1000  -59.82000\n",
      "Adam Hart          Corporate         1736.4100 -762.44000\n",
      "Adam Shillingsburg Corporate          199.1100  -83.33000\n",
      "Adrian Hane        Corporate          312.3600  -71.44000\n",
      "...                                        ...        ...\n",
      "Vivian Mathis      Corporate         3905.7500   55.30185\n",
      "                   Home Office       1651.0900  -71.11000\n",
      "William Brown      Corporate         1735.3515  258.62400\n",
      "Xylona Price       Corporate          106.6400  -31.95000\n",
      "Yoseph Carroll     Consumer          3872.8700   12.61000\n",
      "\n",
      "[466 rows x 2 columns]\n"
     ]
    }
   ],
   "source": [
    "gp2=data.groupby([\"Customer Name\",\"Customer Segment\"]).agg({\"Sales\":\"max\",\"Profit\":\"min\"})\n",
    "print(gp2)"
   ]
  }
 ],
 "metadata": {
  "kernelspec": {
   "display_name": "Python 3",
   "language": "python",
   "name": "python3"
  },
  "language_info": {
   "codemirror_mode": {
    "name": "ipython",
    "version": 3
   },
   "file_extension": ".py",
   "mimetype": "text/x-python",
   "name": "python",
   "nbconvert_exporter": "python",
   "pygments_lexer": "ipython3",
   "version": "3.12.2"
  }
 },
 "nbformat": 4,
 "nbformat_minor": 2
}
