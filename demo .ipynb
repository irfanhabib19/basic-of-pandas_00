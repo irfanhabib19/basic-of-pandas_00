{
 "cells": [
  {
   "cell_type": "code",
   "execution_count": 4,
   "id": "2be5cf8c-319a-44ad-9c39-6b92c0de3b75",
   "metadata": {},
   "outputs": [
    {
     "name": "stdout",
     "output_type": "stream",
     "text": [
      "[[5.  6.  7. ]\n",
      " [1.  2.4 3. ]]\n",
      "(2, 3)\n",
      "2\n",
      "<class 'numpy.ndarray'>\n",
      "float64\n",
      "[[5 6 7]\n",
      " [1 2 3]]\n"
     ]
    }
   ],
   "source": [
    "import numpy as np\n",
    "a=[[5,6,7],[1,2.4,3]]\n",
    "arr=np.array(a)\n",
    "print(arr)\n",
    "print(arr.shape)# rows,colums \n",
    "print(len(arr))# number of nested values \n",
    "print(type(arr))# datatype of variables \n",
    "print(arr.dtype)# datatypes of array \n",
    "print(arr.astype(int)) # conversion of datatyps\n"
   ]
  },
  {
   "cell_type": "code",
   "execution_count": null,
   "id": "438d3500-bc57-4ad5-8af7-caf8667fcaae",
   "metadata": {},
   "outputs": [],
   "source": []
  }
 ],
 "metadata": {
  "kernelspec": {
   "display_name": "Python 3 (ipykernel)",
   "language": "python",
   "name": "python3"
  },
  "language_info": {
   "codemirror_mode": {
    "name": "ipython",
    "version": 3
   },
   "file_extension": ".py",
   "mimetype": "text/x-python",
   "name": "python",
   "nbconvert_exporter": "python",
   "pygments_lexer": "ipython3",
   "version": "3.12.2"
  }
 },
 "nbformat": 4,
 "nbformat_minor": 5
}
