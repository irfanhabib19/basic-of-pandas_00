{
 "cells": [
  {
   "cell_type": "code",
   "execution_count": 9,
   "id": "0fdc6cea-2703-4728-a567-cd187d51afb6",
   "metadata": {},
   "outputs": [
    {
     "name": "stdout",
     "output_type": "stream",
     "text": [
      "60\n",
      "12\n",
      "18\n",
      "4\n",
      "15.0\n",
      "[12 26 42 60]\n",
      "[   12   168  2688 48384]\n"
     ]
    }
   ],
   "source": [
    "import numpy as np\n",
    "arr=np.array([12,14,16,18])\n",
    "print(np.sum(arr))\n",
    "print(np.min(arr))\n",
    "print(np.max(arr))\n",
    "print(np.size(arr))\n",
    "print(np.mean(arr))\n",
    "print(np.cumsum(arr))\n",
    "print(np.cumprod(arr))"
   ]
  },
  {
   "cell_type": "code",
   "execution_count": 21,
   "id": "0e2afe39-730d-45d2-8eff-fe0eaf16b8c0",
   "metadata": {},
   "outputs": [
    {
     "name": "stdout",
     "output_type": "stream",
     "text": [
      "[100 300 400 105  30]\n",
      "[3 5 6 2 9]\n",
      "\n",
      "[[ 100  300  400  105   30]\n",
      " [ 300 1500 2400  210  270]]\n",
      "\n",
      "4680\n"
     ]
    }
   ],
   "source": [
    "a=[100,300,400,105,30]\n",
    "b=[3,5,6,2,9]\n",
    "price=np.array(a)\n",
    "quantity=np.array(b)\n",
    "print(price)\n",
    "print(quantity)\n",
    "print()\n",
    "c=np.cumprod([price,quantity],axis=0)\n",
    "print(c)\n",
    "print()\n",
    "print(c[1].sum())\n"
   ]
  },
  {
   "cell_type": "code",
   "execution_count": null,
   "id": "3850054a-6b6b-4c22-9db5-ea16a9c433b2",
   "metadata": {},
   "outputs": [],
   "source": []
  },
  {
   "cell_type": "code",
   "execution_count": null,
   "id": "ba4166af-16e0-421c-a67c-c091f9341e93",
   "metadata": {},
   "outputs": [],
   "source": []
  }
 ],
 "metadata": {
  "kernelspec": {
   "display_name": "Python 3 (ipykernel)",
   "language": "python",
   "name": "python3"
  },
  "language_info": {
   "codemirror_mode": {
    "name": "ipython",
    "version": 3
   },
   "file_extension": ".py",
   "mimetype": "text/x-python",
   "name": "python",
   "nbconvert_exporter": "python",
   "pygments_lexer": "ipython3",
   "version": "3.12.2"
  }
 },
 "nbformat": 4,
 "nbformat_minor": 5
}
