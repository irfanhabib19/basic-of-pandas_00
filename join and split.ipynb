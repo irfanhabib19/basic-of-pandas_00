{
 "cells": [
  {
   "cell_type": "code",
   "execution_count": 1,
   "id": "89aeec1a-a19f-47df-bf16-5c8bd62a39a8",
   "metadata": {},
   "outputs": [
    {
     "name": "stdout",
     "output_type": "stream",
     "text": [
      "[20, 10, 40, 23, 45, 67]\n"
     ]
    }
   ],
   "source": [
    "\n",
    "a=[20,10,40]\n",
    "b=[23,45,67]\n",
    "print(a+b)"
   ]
  },
  {
   "cell_type": "code",
   "execution_count": 7,
   "id": "92511689-007c-422d-ac86-0e9c8b5debc1",
   "metadata": {},
   "outputs": [
    {
     "name": "stdout",
     "output_type": "stream",
     "text": [
      "[20 10 40 23 45 67]\n"
     ]
    }
   ],
   "source": [
    "# Concatenate   \n",
    "import numpy as np\n",
    "arr1=np.array(a)\n",
    "arr2=np.array(b)\n",
    "print(np.concatenate([arr1,arr2]))"
   ]
  },
  {
   "cell_type": "code",
   "execution_count": 11,
   "id": "971e40bd-e7ea-4178-88a5-9d938cf8b0c4",
   "metadata": {},
   "outputs": [
    {
     "name": "stdout",
     "output_type": "stream",
     "text": [
      "[[10 20]\n",
      " [15 25]\n",
      " [12 14]\n",
      " [15 17]]\n"
     ]
    }
   ],
   "source": [
    "arr3=np.array([[10,20],[15,25]])\n",
    "arr4=np.array([[12,14],[15,17]])\n",
    "print(np.concatenate([arr3,arr4]))  "
   ]
  },
  {
   "cell_type": "code",
   "execution_count": 12,
   "id": "e1f2795b-4cf6-49c8-913f-51ede309a2cb",
   "metadata": {},
   "outputs": [
    {
     "name": "stdout",
     "output_type": "stream",
     "text": [
      "[[10 20 12 14]\n",
      " [15 25 15 17]]\n"
     ]
    }
   ],
   "source": [
    "# concatenate horizontal\n",
    "print(np.concatenate([arr3,arr4],axis=1))"
   ]
  },
  {
   "cell_type": "code",
   "execution_count": 13,
   "id": "2dfdaa45-b118-4344-9344-cb78c5342fbc",
   "metadata": {},
   "outputs": [
    {
     "name": "stdout",
     "output_type": "stream",
     "text": [
      "[[10 20 12 14]\n",
      " [15 25 15 17]]\n"
     ]
    }
   ],
   "source": [
    "# concatenate horizontal\n",
    "print(np.hstack([arr3,arr4]))"
   ]
  },
  {
   "cell_type": "code",
   "execution_count": 14,
   "id": "f88084a0-1750-41b1-b281-14e0d32e62be",
   "metadata": {},
   "outputs": [
    {
     "name": "stdout",
     "output_type": "stream",
     "text": [
      "[[10 20]\n",
      " [15 25]\n",
      " [12 14]\n",
      " [15 17]]\n"
     ]
    }
   ],
   "source": [
    "# concatenate vertical \n",
    "print(np.vstack([arr3,arr4]))"
   ]
  },
  {
   "cell_type": "code",
   "execution_count": 19,
   "id": "e574ac9c-94a8-4020-89ee-13f8d550017a",
   "metadata": {},
   "outputs": [
    {
     "name": "stdout",
     "output_type": "stream",
     "text": [
      "[array([[10, 20]]), array([[30, 40]]), array([], shape=(0, 2), dtype=int32)]\n",
      "[10 20]\n"
     ]
    }
   ],
   "source": [
    "# split array \n",
    "a=np.array([[10,20],[30,40]])\n",
    "print(np.array_split(a,3))\n",
    "print(a[0])\n",
    "           "
   ]
  },
  {
   "cell_type": "code",
   "execution_count": null,
   "id": "96ed0d2d-97e9-46ea-862d-c687885da3bf",
   "metadata": {},
   "outputs": [],
   "source": []
  }
 ],
 "metadata": {
  "kernelspec": {
   "display_name": "Python 3 (ipykernel)",
   "language": "python",
   "name": "python3"
  },
  "language_info": {
   "codemirror_mode": {
    "name": "ipython",
    "version": 3
   },
   "file_extension": ".py",
   "mimetype": "text/x-python",
   "name": "python",
   "nbconvert_exporter": "python",
   "pygments_lexer": "ipython3",
   "version": "3.12.2"
  }
 },
 "nbformat": 4,
 "nbformat_minor": 5
}
