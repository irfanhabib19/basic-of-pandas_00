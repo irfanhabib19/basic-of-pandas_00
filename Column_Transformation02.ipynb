{
 "cells": [
  {
   "cell_type": "code",
   "execution_count": 4,
   "metadata": {},
   "outputs": [
    {
     "name": "stdout",
     "output_type": "stream",
     "text": [
      "   0 First Name  Last Name  Gender        Country   Age        Date    Id  \\\n",
      "0  1      Dulce      Abril  Female  United States  32.0  15/10/2017  1562   \n",
      "1  2       Mara  Hashimoto  Female  Great Britain  25.0  16/08/2016  1582   \n",
      "2  3     Philip       Gent    Male         France   NaN  21/05/2015  2587   \n",
      "3  4   Kathleen     Hanner  Female  United States  25.0  15/10/2017  3549   \n",
      "4  5    Nereida    Magwood  Female            NaN  58.0  16/08/2016  2468   \n",
      "5  6     Gaston      Brumm    Male  United States  24.0  21/05/2015  2554   \n",
      "6  7       Etta       Hurn  Female  Great Britain  56.0  15/10/2017  3598   \n",
      "7  8    Earlean     Melgar  Female  United States   NaN  16/08/2016  2456   \n",
      "8  9   Vincenza    Weiland  Female  United States  40.0  21/05/2015  6548   \n",
      "\n",
      "    salary   Bonus  \n",
      "0  30000.0  4500.0  \n",
      "1  43000.0  6450.0  \n",
      "2  50000.0  7500.0  \n",
      "3      NaN     NaN  \n",
      "4  34000.0  5100.0  \n",
      "5  30000.0  4500.0  \n",
      "6  60000.0  9000.0  \n",
      "7  27000.0  4050.0  \n",
      "8  40000.0  6000.0  \n"
     ]
    }
   ],
   "source": [
    "import pandas as pd\n",
    "data=pd.read_excel(\"inter.xlsx\")\n",
    "data[\"Bonus\"]=(data[\"salary\"]/100)*15\n",
    "print(data)"
   ]
  },
  {
   "cell_type": "code",
   "execution_count": 9,
   "metadata": {},
   "outputs": [
    {
     "name": "stdout",
     "output_type": "stream",
     "text": [
      "   Department In_short\n",
      "0   COMPUTER       COM\n",
      "1       CIVIL      CIV\n",
      "2  MECHANICAL      MEC\n",
      "3  ELECTRICAL      ELE\n"
     ]
    }
   ],
   "source": [
    "data={\"Department\": [\"COMPUTER \",\"CIVIL\",\"MECHANICAL\",\"ELECTRICAL\"]}\n",
    "def extract(value) :\n",
    "    return value[0:3]\n",
    "data=pd.DataFrame(data)\n",
    "data[\"In_short\"]=data[\"Department\"].map(extract)\n",
    "print(data)"
   ]
  },
  {
   "cell_type": "code",
   "execution_count": 11,
   "metadata": {},
   "outputs": [
    {
     "name": "stdout",
     "output_type": "stream",
     "text": [
      "      roll no    name  age\n",
      "0   CSE224019   irfan   19\n",
      "1   CSE224020    alia   20\n",
      "2   CSE224021  isbaul   21\n",
      "3   CSE224022    asif   22\n",
      "0   CSE224006   miraj   19\n",
      "1   CSE224001  neyeem   18\n",
      "2   CSE224002    arif   20\n",
      "3  CSE2240014   lisan   21\n"
     ]
    }
   ],
   "source": [
    "import pandas as pd\n",
    "data1={\"roll no\":[\"CSE224019\",\"CSE224020\",\"CSE224021\",\"CSE224022\"],\n",
    "\"name\":[\"irfan\",\"alia\",\"isbaul\",\"asif\"],\n",
    "\"age\":[19,20,21,22]}\n",
    "df1=pd.DataFrame(data1)\n",
    "#print(df1)\n",
    "data2={\"roll no\":[\"CSE224006\",\"CSE224001\",\"CSE224002\",\"CSE2240014\"],\n",
    "\"name\":[\"miraj\",\"neyeem\",\"arif\",\"lisan\"],\n",
    "\"age\":[19,18,20,21]}\n",
    "df2=pd.DataFrame(data2)\n",
    "#print(df2)\n",
    "print(pd.concat([df1,df2]))"
   ]
  }
 ],
 "metadata": {
  "kernelspec": {
   "display_name": "Python 3",
   "language": "python",
   "name": "python3"
  },
  "language_info": {
   "codemirror_mode": {
    "name": "ipython",
    "version": 3
   },
   "file_extension": ".py",
   "mimetype": "text/x-python",
   "name": "python",
   "nbconvert_exporter": "python",
   "pygments_lexer": "ipython3",
   "version": "3.12.2"
  }
 },
 "nbformat": 4,
 "nbformat_minor": 2
}
