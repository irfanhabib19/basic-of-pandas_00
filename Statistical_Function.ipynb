{
 "cells": [
  {
   "cell_type": "code",
   "execution_count": 4,
   "id": "9cac2199-567e-4e42-8c3d-2aebe67f293a",
   "metadata": {},
   "outputs": [
    {
     "name": "stdout",
     "output_type": "stream",
     "text": [
      "412.5\n",
      "425.0\n",
      "200\n",
      "131.69567191065923\n",
      "17343.75\n"
     ]
    }
   ],
   "source": [
    "import numpy as np\n",
    "import statistics as stats\n",
    "baked_food=[200,250,350,400,450,500,550,600]\n",
    "a=np.array(baked_food)\n",
    "print(np.mean((baked_food)))# sum of all values/number of values\n",
    "print(np.median(baked_food))# central value of after sorting \n",
    "print(stats.mode(baked_food))\n",
    "print(np.std(baked_food))\n",
    "print(np.var(baked_food))"
   ]
  },
  {
   "cell_type": "code",
   "execution_count": 5,
   "id": "d74a16ce",
   "metadata": {},
   "outputs": [
    {
     "name": "stdout",
     "output_type": "stream",
     "text": [
      "[[ 1.         -0.15267417]\n",
      " [-0.15267417  1.        ]]\n"
     ]
    }
   ],
   "source": [
    "# -1 represents inversely proportional relationship\n",
    "# 1 represents proportional relationship\n",
    "# 0 represents proportional no relationship\n",
    "tobacco_consumption=[40,30,50,10,20]\n",
    "deaths=[100,200,30,60,102]\n",
    "print(np.corrcoef([tobacco_consumption,deaths]))"
   ]
  },
  {
   "cell_type": "code",
   "execution_count": 6,
   "id": "2f351b24",
   "metadata": {},
   "outputs": [
    {
     "name": "stdout",
     "output_type": "stream",
     "text": [
      "[[ 1.         -0.97984378]\n",
      " [-0.97984378  1.        ]]\n"
     ]
    }
   ],
   "source": [
    "price=[200,400,100,250,450]\n",
    "sales=[10,5,15,8,3]\n",
    "print(np.corrcoef([price,sales]))"
   ]
  }
 ],
 "metadata": {
  "kernelspec": {
   "display_name": "Python 3 (ipykernel)",
   "language": "python",
   "name": "python3"
  },
  "language_info": {
   "codemirror_mode": {
    "name": "ipython",
    "version": 3
   },
   "file_extension": ".py",
   "mimetype": "text/x-python",
   "name": "python",
   "nbconvert_exporter": "python",
   "pygments_lexer": "ipython3",
   "version": "3.12.2"
  }
 },
 "nbformat": 4,
 "nbformat_minor": 5
}
