{
 "cells": [
  {
   "cell_type": "code",
   "execution_count": 13,
   "metadata": {},
   "outputs": [
    {
     "name": "stdout",
     "output_type": "stream",
     "text": [
      "   0 First Name  Last Name  Gender        Country   Age        Date    Id  \\\n",
      "0  1      Dulce      Abril  Female  United States  32.0  15/10/2017  1562   \n",
      "1  2       Mara  Hashimoto  Female  Great Britain  25.0  16/08/2016  1582   \n",
      "2  3     Philip       Gent    Male         France   NaN  21/05/2015  2587   \n",
      "3  4   Kathleen     Hanner  Female  United States  25.0  15/10/2017  3549   \n",
      "4  5    Nereida    Magwood  Female            NaN  58.0  16/08/2016  2468   \n",
      "5  6     Gaston      Brumm    Male  United States  24.0  21/05/2015  2554   \n",
      "6  7       Etta       Hurn  Female  Great Britain  56.0  15/10/2017  3598   \n",
      "7  8    Earlean     Melgar  Female  United States   NaN  16/08/2016  2456   \n",
      "8  9   Vincenza    Weiland  Female  United States  40.0  21/05/2015  6548   \n",
      "\n",
      "    salary          position  \n",
      "0  30000.0  junior developer  \n",
      "1  43000.0  senior developer  \n",
      "2  50000.0  senior developer  \n",
      "3      NaN               NaN  \n",
      "4  34000.0  junior developer  \n",
      "5  30000.0  junior developer  \n",
      "6  60000.0  senior developer  \n",
      "7  27000.0  junior developer  \n",
      "8  40000.0  senior developer  \n"
     ]
    }
   ],
   "source": [
    "import pandas as pd \n",
    "df=pd.read_excel(\"inter.xlsx\")\n",
    "df.loc[(df[\"salary\"]>=40000),\"position\"]=\"senior developer\"\n",
    "df.loc[(df[\"salary\"]<40000),\"position\"]=\"junior developer\"\n",
    "print(df)\n"
   ]
  }
 ],
 "metadata": {
  "kernelspec": {
   "display_name": "Python 3",
   "language": "python",
   "name": "python3"
  },
  "language_info": {
   "codemirror_mode": {
    "name": "ipython",
    "version": 3
   },
   "file_extension": ".py",
   "mimetype": "text/x-python",
   "name": "python",
   "nbconvert_exporter": "python",
   "pygments_lexer": "ipython3",
   "version": "3.12.2"
  }
 },
 "nbformat": 4,
 "nbformat_minor": 2
}
