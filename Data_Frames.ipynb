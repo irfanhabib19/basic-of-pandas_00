{
 "cells": [
  {
   "cell_type": "code",
   "execution_count": 2,
   "metadata": {},
   "outputs": [
    {
     "name": "stdout",
     "output_type": "stream",
     "text": [
      "    name  age  salary\n",
      "0  irfan   18   25000\n",
      "1  habib   20   32000\n",
      "2   boni   18   18000\n",
      "3  raina   40   32000\n"
     ]
    }
   ],
   "source": [
    "import pandas as pd\n",
    "data={\"name\":[\"irfan\",\"habib\",\"boni\",\"raina\"],\n",
    "\"age\":[18,20,18,40],\n",
    "\"salary\":[25000,32000,18000,32000]\n",
    "}\n",
    "df=pd.DataFrame(data)\n",
    "print(df)"
   ]
  },
  {
   "cell_type": "code",
   "execution_count": 6,
   "metadata": {},
   "outputs": [
    {
     "name": "stdout",
     "output_type": "stream",
     "text": [
      "      Order ID Order Date  Order Quantity       Sales       Ship Mode  \\\n",
      "0            3 2010-10-13               6    261.5400     Regular Air   \n",
      "1            6 2012-02-20               2      6.9300     Regular Air   \n",
      "2           32 2011-07-15              26   2808.0800     Regular Air   \n",
      "3           32 2011-07-15              24   1761.4000  Delivery Truck   \n",
      "4           32 2011-07-15              23    160.2335     Regular Air   \n",
      "...        ...        ...             ...         ...             ...   \n",
      "1002      7171 2011-02-13              17    303.1865     Regular Air   \n",
      "1003      7174 2012-03-10              10    141.9200     Regular Air   \n",
      "1004      7175 2010-02-07              10    748.2500  Delivery Truck   \n",
      "1005      7203 2009-01-08              25  21752.0100     Regular Air   \n",
      "1006      7239 2011-06-29              50   6206.1600     Regular Air   \n",
      "\n",
      "        Profit  Unit Price       Customer Name Customer Segment  \\\n",
      "0     -213.250       38.94  Muhammed MacIntyre   Small Business   \n",
      "1       -4.640        2.08         Ruben Dartt        Corporate   \n",
      "2     1054.820      107.53       Liz Pelletier        Corporate   \n",
      "3    -1748.560       70.89       Liz Pelletier        Corporate   \n",
      "4      -85.129        7.99       Liz Pelletier        Corporate   \n",
      "...        ...         ...                 ...              ...   \n",
      "1002    92.592       20.99        Andy Gerbode         Consumer   \n",
      "1003    12.200       13.73     Thomas Thornton         Consumer   \n",
      "1004   -86.990       70.98      Helen Andreada        Corporate   \n",
      "1005  9296.348      896.99         Ruben Dartt        Corporate   \n",
      "1006  1416.270      120.33       Craig Carroll   Small Business   \n",
      "\n",
      "     Product Category  \n",
      "0     Office Supplies  \n",
      "1     Office Supplies  \n",
      "2           Furniture  \n",
      "3           Furniture  \n",
      "4          Technology  \n",
      "...               ...  \n",
      "1002       Technology  \n",
      "1003        Furniture  \n",
      "1004        Furniture  \n",
      "1005  Office Supplies  \n",
      "1006  Office Supplies  \n",
      "\n",
      "[1007 rows x 10 columns]\n"
     ]
    }
   ],
   "source": [
    "data=pd.read_excel(\"random.xlsx\")\n",
    "print(data)"
   ]
  },
  {
   "cell_type": "code",
   "execution_count": 7,
   "metadata": {},
   "outputs": [
    {
     "name": "stdout",
     "output_type": "stream",
     "text": [
      "               hotel  is_canceled  lead_time  arrival_date_year  \\\n",
      "0       Resort Hotel            0        342               2015   \n",
      "1       Resort Hotel            0        737               2015   \n",
      "2       Resort Hotel            0          7               2015   \n",
      "3       Resort Hotel            0         13               2015   \n",
      "4       Resort Hotel            0         14               2015   \n",
      "...              ...          ...        ...                ...   \n",
      "119385    City Hotel            0         23               2017   \n",
      "119386    City Hotel            0        102               2017   \n",
      "119387    City Hotel            0         34               2017   \n",
      "119388    City Hotel            0        109               2017   \n",
      "119389    City Hotel            0        205               2017   \n",
      "\n",
      "       arrival_date_month  arrival_date_week_number  \\\n",
      "0                    July                        27   \n",
      "1                    July                        27   \n",
      "2                    July                        27   \n",
      "3                    July                        27   \n",
      "4                    July                        27   \n",
      "...                   ...                       ...   \n",
      "119385             August                        35   \n",
      "119386             August                        35   \n",
      "119387             August                        35   \n",
      "119388             August                        35   \n",
      "119389             August                        35   \n",
      "\n",
      "        arrival_date_day_of_month  stays_in_weekend_nights  \\\n",
      "0                               1                        0   \n",
      "1                               1                        0   \n",
      "2                               1                        0   \n",
      "3                               1                        0   \n",
      "4                               1                        0   \n",
      "...                           ...                      ...   \n",
      "119385                         30                        2   \n",
      "119386                         31                        2   \n",
      "119387                         31                        2   \n",
      "119388                         31                        2   \n",
      "119389                         29                        2   \n",
      "\n",
      "        stays_in_week_nights  adults  ...  customer_type     adr  \\\n",
      "0                          0       2  ...      Transient    0.00   \n",
      "1                          0       2  ...      Transient    0.00   \n",
      "2                          1       1  ...      Transient   75.00   \n",
      "3                          1       1  ...      Transient   75.00   \n",
      "4                          2       2  ...      Transient   98.00   \n",
      "...                      ...     ...  ...            ...     ...   \n",
      "119385                     5       2  ...      Transient   96.14   \n",
      "119386                     5       3  ...      Transient  225.43   \n",
      "119387                     5       2  ...      Transient  157.71   \n",
      "119388                     5       2  ...      Transient  104.40   \n",
      "119389                     7       2  ...      Transient  151.20   \n",
      "\n",
      "       required_car_parking_spaces total_of_special_requests  \\\n",
      "0                                0                         0   \n",
      "1                                0                         0   \n",
      "2                                0                         0   \n",
      "3                                0                         0   \n",
      "4                                0                         1   \n",
      "...                            ...                       ...   \n",
      "119385                           0                         0   \n",
      "119386                           0                         2   \n",
      "119387                           0                         4   \n",
      "119388                           0                         0   \n",
      "119389                           0                         2   \n",
      "\n",
      "       reservation_status reservation_status_date                name  \\\n",
      "0               Check-Out              2015-07-01       Ernest Barnes   \n",
      "1               Check-Out              2015-07-01        Andrea Baker   \n",
      "2               Check-Out              2015-07-02      Rebecca Parker   \n",
      "3               Check-Out              2015-07-02        Laura Murray   \n",
      "4               Check-Out              2015-07-03         Linda Hines   \n",
      "...                   ...                     ...                 ...   \n",
      "119385          Check-Out              2017-09-06     Claudia Johnson   \n",
      "119386          Check-Out              2017-09-07      Wesley Aguilar   \n",
      "119387          Check-Out              2017-09-07        Mary Morales   \n",
      "119388          Check-Out              2017-09-07  Caroline Conley MD   \n",
      "119389          Check-Out              2017-09-07      Ariana Michael   \n",
      "\n",
      "                              email  phone-number       credit_card  \n",
      "0       Ernest.Barnes31@outlook.com  669-792-1661  ************4322  \n",
      "1            Andrea_Baker94@aol.com  858-637-6955  ************9157  \n",
      "2        Rebecca_Parker@comcast.net  652-885-2745  ************3734  \n",
      "3                 Laura_M@gmail.com  364-656-8427  ************5677  \n",
      "4                LHines@verizon.com  713-226-5883  ************5498  \n",
      "...                             ...           ...               ...  \n",
      "119385          Claudia.J@yahoo.com  403-092-5582  ************8647  \n",
      "119386         WAguilar@xfinity.com  238-763-0612  ************4333  \n",
      "119387     Mary_Morales@hotmail.com  395-518-4100  ************1821  \n",
      "119388      MD_Caroline@comcast.net  531-528-1017  ************7860  \n",
      "119389         Ariana_M@xfinity.com  422-804-6403  ************4482  \n",
      "\n",
      "[119390 rows x 36 columns]\n"
     ]
    }
   ],
   "source": [
    "a1=pd.read_csv(\"C:/Users/irfan/OneDrive/Documents/hotel_booking.csv\")\n",
    "print(a1)"
   ]
  }
 ],
 "metadata": {
  "kernelspec": {
   "display_name": "Python 3",
   "language": "python",
   "name": "python3"
  },
  "language_info": {
   "codemirror_mode": {
    "name": "ipython",
    "version": 3
   },
   "file_extension": ".py",
   "mimetype": "text/x-python",
   "name": "python",
   "nbconvert_exporter": "python",
   "pygments_lexer": "ipython3",
   "version": "3.12.2"
  }
 },
 "nbformat": 4,
 "nbformat_minor": 2
}
