{
 "cells": [
  {
   "cell_type": "code",
   "execution_count": 3,
   "id": "4d23407d-4a4f-4e25-8ab9-ae34efef6979",
   "metadata": {},
   "outputs": [
    {
     "name": "stdout",
     "output_type": "stream",
     "text": [
      "[ 20  50  40  20  20 100]\n"
     ]
    }
   ],
   "source": [
    "import numpy as np \n",
    "a=np.array([[20,50],[40,20]])\n",
    "print(np.append(a,[20,100]))"
   ]
  },
  {
   "cell_type": "code",
   "execution_count": 9,
   "id": "e28905bc-46d8-4b87-b823-c6c1d56d38e4",
   "metadata": {},
   "outputs": [
    {
     "name": "stdout",
     "output_type": "stream",
     "text": [
      "[[20 50]\n",
      " [24 24]\n",
      " [40 20]\n",
      " [24 24]]\n"
     ]
    }
   ],
   "source": [
    "print(np.insert(a,[1,2],[24],axis=0)) # array,index,value"
   ]
  },
  {
   "cell_type": "code",
   "execution_count": 18,
   "id": "4c44a07c-e808-4aa8-932f-2b5166dcc8aa",
   "metadata": {},
   "outputs": [
    {
     "name": "stdout",
     "output_type": "stream",
     "text": [
      "[[20 50]\n",
      " [40 20]]\n",
      "\n",
      "[[20]\n",
      " [40]]\n"
     ]
    }
   ],
   "source": [
    "print(a)\n",
    "print()\n",
    "print(np.delete(a,1, axis = 1))"
   ]
  },
  {
   "cell_type": "code",
   "execution_count": null,
   "id": "5e5b6b06-3537-405a-9e1f-012397b2aea1",
   "metadata": {},
   "outputs": [],
   "source": []
  }
 ],
 "metadata": {
  "kernelspec": {
   "display_name": "Python 3 (ipykernel)",
   "language": "python",
   "name": "python3"
  },
  "language_info": {
   "codemirror_mode": {
    "name": "ipython",
    "version": 3
   },
   "file_extension": ".py",
   "mimetype": "text/x-python",
   "name": "python",
   "nbconvert_exporter": "python",
   "pygments_lexer": "ipython3",
   "version": "3.12.2"
  }
 },
 "nbformat": 4,
 "nbformat_minor": 5
}
