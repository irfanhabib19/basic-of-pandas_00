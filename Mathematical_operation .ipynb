{
 "cells": [
  {
   "cell_type": "code",
   "execution_count": 6,
   "id": "c2feb1bd-1575-4d58-bc32-9ec189e39bf1",
   "metadata": {},
   "outputs": [
    {
     "name": "stdout",
     "output_type": "stream",
     "text": [
      "[[30 30]\n",
      " [30 30]]\n",
      "[[30 30]\n",
      " [30 30]]\n",
      "[[ 10 -10]\n",
      " [  0  20]]\n",
      "[[ 10 -10]\n",
      " [  0  20]]\n"
     ]
    }
   ],
   "source": [
    "import numpy as np\n",
    "arr1=np.array([[20,10],[15,25]])\n",
    "arr2=np.array([[10,20],[15,5]])\n",
    "print(arr1+arr2)\n",
    "print(np.add(arr1,arr2))\n",
    "print(arr1-arr2)\n",
    "print(np.subtract(arr1,arr2))\n"
   ]
  },
  {
   "cell_type": "code",
   "execution_count": 10,
   "id": "50a8c1bc-707e-47f3-9916-656f4feb35ab",
   "metadata": {},
   "outputs": [
    {
     "name": "stdout",
     "output_type": "stream",
     "text": [
      "[[200 200]\n",
      " [225 125]]\n",
      "[[200 200]\n",
      " [225 125]]\n",
      "[[2.  0.5]\n",
      " [1.  5. ]]\n",
      "[[2.  0.5]\n",
      " [1.  5. ]]\n"
     ]
    }
   ],
   "source": [
    "import numpy as np\n",
    "arr1=np.array([[20,10],[15,25]])\n",
    "arr2=np.array([[10,20],[15,5]])\n",
    "print(arr1*arr2)\n",
    "print(np.multiply(arr1,arr2))\n",
    "print(arr1/arr2)\n",
    "print(np.divide(arr1,arr2))"
   ]
  },
  {
   "cell_type": "code",
   "execution_count": null,
   "id": "7ea74440-71bc-4933-95a6-10643e3d1017",
   "metadata": {},
   "outputs": [],
   "source": []
  }
 ],
 "metadata": {
  "kernelspec": {
   "display_name": "Python 3 (ipykernel)",
   "language": "python",
   "name": "python3"
  },
  "language_info": {
   "codemirror_mode": {
    "name": "ipython",
    "version": 3
   },
   "file_extension": ".py",
   "mimetype": "text/x-python",
   "name": "python",
   "nbconvert_exporter": "python",
   "pygments_lexer": "ipython3",
   "version": "3.12.2"
  }
 },
 "nbformat": 4,
 "nbformat_minor": 5
}
