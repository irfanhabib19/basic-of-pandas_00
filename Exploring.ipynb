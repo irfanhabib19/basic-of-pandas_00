{
 "cells": [
  {
   "cell_type": "code",
   "execution_count": 7,
   "metadata": {},
   "outputs": [
    {
     "name": "stdout",
     "output_type": "stream",
     "text": [
      "   Order ID Order Date  Order Quantity   Sales    Ship Mode  Profit  \\\n",
      "0         3 2010-10-13               6  261.54  Regular Air -213.25   \n",
      "1         6 2012-02-20               2    6.93  Regular Air   -4.64   \n",
      "\n",
      "   Unit Price       Customer Name Customer Segment Product Category  \n",
      "0       38.94  Muhammed MacIntyre   Small Business  Office Supplies  \n",
      "1        2.08         Ruben Dartt        Corporate  Office Supplies  \n",
      "      Order ID Order Date  Order Quantity     Sales    Ship Mode    Profit  \\\n",
      "1005      7203 2009-01-08              25  21752.01  Regular Air  9296.348   \n",
      "1006      7239 2011-06-29              50   6206.16  Regular Air  1416.270   \n",
      "\n",
      "      Unit Price  Customer Name Customer Segment Product Category  \n",
      "1005      896.99    Ruben Dartt        Corporate  Office Supplies  \n",
      "1006      120.33  Craig Carroll   Small Business  Office Supplies  \n"
     ]
    }
   ],
   "source": [
    "import pandas as pd \n",
    "data=pd.read_excel(\"random.xlsx\")\n",
    "##print(data)\n",
    "print(data.head(2))\n",
    "print(data.tail(2))"
   ]
  },
  {
   "cell_type": "code",
   "execution_count": 9,
   "metadata": {},
   "outputs": [
    {
     "name": "stdout",
     "output_type": "stream",
     "text": [
      "<class 'pandas.core.frame.DataFrame'>\n",
      "RangeIndex: 1007 entries, 0 to 1006\n",
      "Data columns (total 10 columns):\n",
      " #   Column            Non-Null Count  Dtype         \n",
      "---  ------            --------------  -----         \n",
      " 0   Order ID          1007 non-null   int64         \n",
      " 1   Order Date        1007 non-null   datetime64[ns]\n",
      " 2   Order Quantity    1007 non-null   int64         \n",
      " 3   Sales             999 non-null    float64       \n",
      " 4   Ship Mode         1007 non-null   object        \n",
      " 5   Profit            999 non-null    float64       \n",
      " 6   Unit Price        1007 non-null   float64       \n",
      " 7   Customer Name     1007 non-null   object        \n",
      " 8   Customer Segment  1007 non-null   object        \n",
      " 9   Product Category  1007 non-null   object        \n",
      "dtypes: datetime64[ns](1), float64(3), int64(2), object(4)\n",
      "memory usage: 78.8+ KB\n",
      "None\n",
      "          Order ID                     Order Date  Order Quantity  \\\n",
      "count  1007.000000                           1007     1007.000000   \n",
      "mean   3478.923535  2010-12-24 04:24:32.889771776       24.832175   \n",
      "min       3.000000            2008-07-15 00:00:00        1.000000   \n",
      "25%    1665.500000            2010-01-05 00:00:00       12.000000   \n",
      "50%    3456.000000            2010-12-24 00:00:00       25.000000   \n",
      "75%    5350.000000            2012-01-04 00:00:00       38.000000   \n",
      "max    7239.000000            2012-12-28 00:00:00       50.000000   \n",
      "std    2119.704215                            NaN       14.367466   \n",
      "\n",
      "              Sales        Profit   Unit Price  \n",
      "count    999.000000    999.000000  1007.000000  \n",
      "mean    1869.035668    216.914564    91.255045  \n",
      "min        2.240000  -4266.088500     1.260000  \n",
      "25%      132.465000    -83.495000     6.480000  \n",
      "50%      412.620000     -1.250000    20.970000  \n",
      "75%     1695.515000    146.608000    95.950000  \n",
      "max    45923.760000  11535.282000  6783.020000  \n",
      "std     3851.570257   1135.726341   294.993321  \n"
     ]
    }
   ],
   "source": [
    "print(data.info())\n",
    "print(data.describe())"
   ]
  },
  {
   "cell_type": "code",
   "execution_count": 11,
   "metadata": {},
   "outputs": [
    {
     "name": "stdout",
     "output_type": "stream",
     "text": [
      "Order ID            0\n",
      "Order Date          0\n",
      "Order Quantity      0\n",
      "Sales               8\n",
      "Ship Mode           0\n",
      "Profit              8\n",
      "Unit Price          0\n",
      "Customer Name       0\n",
      "Customer Segment    0\n",
      "Product Category    0\n",
      "dtype: int64\n"
     ]
    }
   ],
   "source": [
    "print(data.isnull().sum())"
   ]
  }
 ],
 "metadata": {
  "kernelspec": {
   "display_name": "Python 3",
   "language": "python",
   "name": "python3"
  },
  "language_info": {
   "codemirror_mode": {
    "name": "ipython",
    "version": 3
   },
   "file_extension": ".py",
   "mimetype": "text/x-python",
   "name": "python",
   "nbconvert_exporter": "python",
   "pygments_lexer": "ipython3",
   "version": "3.12.2"
  }
 },
 "nbformat": 4,
 "nbformat_minor": 2
}
